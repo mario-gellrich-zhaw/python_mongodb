{
 "cells": [
  {
   "cell_type": "markdown",
   "metadata": {},
   "source": [
    "# Python with MongoDB\n",
    "\n",
    "Helpful learning resources: https://www.tutorialspoint.com/mongodb/index.htm"
   ]
  },
  {
   "cell_type": "markdown",
   "metadata": {},
   "source": [
    "## Libraries and Settings"
   ]
  },
  {
   "cell_type": "code",
   "execution_count": null,
   "metadata": {},
   "outputs": [],
   "source": [
    "# Libraries\n",
    "import os\n",
    "import json\n",
    "import pandas as pd\n",
    "import matplotlib.pyplot as plt\n",
    "\n",
    "from pymongo import MongoClient\n",
    "\n",
    "# Settings\n",
    "import warnings\n",
    "warnings.filterwarnings(\"ignore\")\n",
    "\n",
    "# Use dark background for plots\n",
    "plt.style.use('dark_background')\n",
    "\n",
    "# Current working directory\n",
    "print(os.getcwd())"
   ]
  },
  {
   "cell_type": "markdown",
   "metadata": {},
   "source": [
    "## Connect to the MongoDB server and list databases"
   ]
  },
  {
   "cell_type": "code",
   "execution_count": null,
   "metadata": {},
   "outputs": [],
   "source": [
    "# Connect to the MongoDB server\n",
    "client = MongoClient(\"mongodb://mongo:27017/\")\n",
    "\n",
    "# List databases\n",
    "databases = client.list_database_names()\n",
    "print(\"Connected to MongoDB. Databases:\", databases)"
   ]
  },
  {
   "cell_type": "markdown",
   "metadata": {},
   "source": [
    "## Read and insert data"
   ]
  },
  {
   "cell_type": "code",
   "execution_count": null,
   "metadata": {},
   "outputs": [],
   "source": [
    "# Create / Access the specific database and collection\n",
    "db = client['restaurant_database']\n",
    "collection = db['restaurant_collection']\n",
    "\n",
    "# Read data from JSON file\n",
    "with open('/workspace/restaurant_data.json', 'r') as file:\n",
    "    example_data = json.load(file)\n",
    "\n",
    "# Insert data into the collection (similar to tables in an SQL database)\n",
    "try:\n",
    "    insert_result = collection.insert_many(example_data)\n",
    "    print(f\"Inserted documents to mongo db\")\n",
    "except Exception as e:\n",
    "    print(f\"Insert error: {e}\")\n"
   ]
  },
  {
   "cell_type": "markdown",
   "metadata": {},
   "source": [
    "## Define a query using MongoDB Query Language (MQL)"
   ]
  },
  {
   "cell_type": "code",
   "execution_count": null,
   "metadata": {},
   "outputs": [],
   "source": [
    "# Function to query the data\n",
    "def query_collection(db_name, collection_name, query, client=client):\n",
    "    if client:\n",
    "        db = client[db_name]\n",
    "        collection = db[collection_name]\n",
    "        results = list(collection.find(query))\n",
    "        return results\n",
    "    return []\n",
    "\n",
    "# Define a query with multiple conditions\n",
    "query = {\n",
    "    \"properties.addr:city\": {\"$in\": [\"Zürich\", \"Winterthur\"]},\n",
    "    \"properties.amenity\": \"restaurant\",\n",
    "    \"properties.cuisine\": {\"$in\": [\"burger\", \"pizza\"]}\n",
    "}\n",
    "\n",
    "# Execute the query and fetch the results\n",
    "results = query_collection('restaurant_database', 'restaurant_collection', query)\n",
    "print(\"Query result:\")\n",
    "for result in results:\n",
    "    print(result)\n",
    "\n",
    "# Convert the results into a Pandas DataFrame\n",
    "data = []\n",
    "for result in results:\n",
    "    properties = result['properties']\n",
    "    data.append({\n",
    "        'street': properties.get('addr:street'),\n",
    "        'housenumber': properties.get('addr:housenumber'),\n",
    "        'postcode': properties.get('addr:postcode'),\n",
    "        'city': properties.get('addr:city'),\n",
    "        'amenity': properties.get('amenity'),\n",
    "        'cuisine': properties.get('cuisine')\n",
    "    })\n",
    "\n",
    "# Create a DataFrame from the list of dictionaries\n",
    "df = pd.DataFrame(data)\n",
    "\n",
    "# Display the DataFrame\n",
    "df.head()"
   ]
  },
  {
   "cell_type": "markdown",
   "metadata": {},
   "source": [
    "## Define a query to aggregate the data using MongoDB Query Language (MQL)"
   ]
  },
  {
   "cell_type": "code",
   "execution_count": null,
   "metadata": {},
   "outputs": [],
   "source": [
    "# Function to aggregate the number of restaurants by cuisine and city\n",
    "def aggregate_restaurants_by_cuisine_and_city(db_name, collection_name, client=client):\n",
    "    \n",
    "    db = client[db_name]\n",
    "    collection = db[collection_name]\n",
    "    \n",
    "    pipeline = [\n",
    "        {\n",
    "            \"$match\": {\n",
    "                \"properties.addr:city\": {\"$in\": [\"Zürich\", \"Winterthur\"]},\n",
    "                \"properties.cuisine\": {\"$in\": [\"burger\", \"pizza\"]}\n",
    "            }\n",
    "        },\n",
    "        {\n",
    "            \"$group\": {\n",
    "                \"_id\": {\n",
    "                    \"city\": \"$properties.addr:city\",\n",
    "                    \"cuisine\": \"$properties.cuisine\"\n",
    "                },\n",
    "                \"count\": { \"$sum\": 1 }\n",
    "            }\n",
    "        },\n",
    "        {\n",
    "            \"$sort\": { \"count\": -1 }\n",
    "        }\n",
    "    ]\n",
    "    \n",
    "    results = list(collection.aggregate(pipeline))\n",
    "    return results\n",
    "\n",
    "# Execute the query and fetch the results\n",
    "results = aggregate_restaurants_by_cuisine_and_city('restaurant_database', 'restaurant_collection')\n",
    "print(\"Query result:\")\n",
    "for result in results:\n",
    "    print(result)\n",
    "\n",
    "# Convert the results into a Pandas DataFrame\n",
    "df = pd.DataFrame(results)\n",
    "\n",
    "# Normalize the '_id' field to separate columns\n",
    "df = pd.concat([df.drop(['_id'], axis=1), df['_id'].apply(pd.Series)], axis=1)\n",
    "\n",
    "# Display the DataFrame\n",
    "df"
   ]
  },
  {
   "cell_type": "markdown",
   "metadata": {},
   "source": [
    "## Make bar chart from results"
   ]
  },
  {
   "cell_type": "code",
   "execution_count": null,
   "metadata": {},
   "outputs": [],
   "source": [
    "# Sort values in ascending order\n",
    "df = df.sort_values(by='count', ascending=True)\n",
    "\n",
    "# Define colors for each city and cuisine combination\n",
    "colors = {\n",
    "    ('Zürich', 'burger'): '#28b463',\n",
    "    ('Zürich', 'pizza'): '#82e0aa',\n",
    "    ('Winterthur', 'burger'): '#b7950b',\n",
    "    ('Winterthur', 'pizza'): '#f7dc6f'\n",
    "}\n",
    "\n",
    "# Create a bar chart\n",
    "fig, ax = plt.subplots()\n",
    "\n",
    "# Plot data\n",
    "for city in df['city'].unique():\n",
    "    city_data = df[df['city'] == city]\n",
    "    ax.barh(\n",
    "        city_data['cuisine'] + ' (' + city + ')',\n",
    "        city_data['count'],\n",
    "        color=[colors[(city, cuisine)] for cuisine in city_data['cuisine']],\n",
    "        label=city\n",
    "    )\n",
    "\n",
    "# Add labels and title\n",
    "ax.set_xlabel('Number of Restaurants')\n",
    "ax.set_ylabel('Cuisine (City)')\n",
    "ax.set_title('Number of Restaurants by City and Cuisine')\n",
    "\n",
    "# Create custom legend\n",
    "handles = [\n",
    "    plt.Line2D([0], [0], color=list(colors.values())[0], lw=4, label='Zürich (Burger)'),\n",
    "    plt.Line2D([0], [0], color=list(colors.values())[1], lw=4, label='Zürich (Pizza)'),\n",
    "    plt.Line2D([0], [0], color=list(colors.values())[2], lw=4, label='Winterthur (Burger)'),\n",
    "    plt.Line2D([0], [0], color=list(colors.values())[3], lw=4, label='Winterthur (Pizza)')\n",
    "]\n",
    "ax.legend(handles=handles, title='City/Cuisine')\n",
    "\n",
    "# Show the plot\n",
    "plt.show()"
   ]
  },
  {
   "cell_type": "markdown",
   "metadata": {},
   "source": [
    "## Drop defined collections and databases"
   ]
  },
  {
   "cell_type": "code",
   "execution_count": null,
   "metadata": {},
   "outputs": [],
   "source": [
    "# List databases\n",
    "databases = client.list_database_names()\n",
    "print(\"Connected to MongoDB. Databases:\", databases)\n",
    "\n",
    "# Drop defined collections and database if exists\n",
    "db_name = 'restaurant_database'\n",
    "collection_name = 'restaurant_collection'\n",
    "\n",
    "db = client[db_name]\n",
    "if collection_name in db.list_collection_names():\n",
    "    db.drop_collection(collection_name)\n",
    "    print(f\"Collection '{collection_name}' dropped from database '{db_name}'.\")\n",
    "else:\n",
    "    print(f\"Collection '{collection_name}' does not exist in database '{db_name}'.\")\n",
    "\n",
    "# Drop the database\n",
    "if db_name in databases:\n",
    "    client.drop_database(db_name)\n",
    "    print(f\"Database '{db_name}' dropped.\")\n",
    "else:\n",
    "    print(f\"Database '{db_name}' does not exist.\")\n"
   ]
  },
  {
   "cell_type": "markdown",
   "metadata": {},
   "source": [
    "### Jupyter notebook --footer info-- (please always provide this at the end of each notebook)"
   ]
  },
  {
   "cell_type": "code",
   "execution_count": null,
   "metadata": {},
   "outputs": [],
   "source": [
    "import os\n",
    "import platform\n",
    "import socket\n",
    "from platform import python_version\n",
    "from datetime import datetime\n",
    "\n",
    "print('-----------------------------------')\n",
    "print(os.name.upper())\n",
    "print(platform.system(), '|', platform.release())\n",
    "print('Datetime:', datetime.now().strftime(\"%Y-%m-%d %H:%M:%S\"))\n",
    "print('Python Version:', python_version())\n",
    "print('-----------------------------------')"
   ]
  }
 ],
 "metadata": {
  "kernelspec": {
   "display_name": "daengenv",
   "language": "python",
   "name": "python3"
  },
  "language_info": {
   "codemirror_mode": {
    "name": "ipython",
    "version": 3
   },
   "file_extension": ".py",
   "mimetype": "text/x-python",
   "name": "python",
   "nbconvert_exporter": "python",
   "pygments_lexer": "ipython3",
   "version": "3.11.9"
  }
 },
 "nbformat": 4,
 "nbformat_minor": 2
}
