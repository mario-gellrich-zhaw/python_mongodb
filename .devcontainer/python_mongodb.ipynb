{
 "cells": [
  {
   "cell_type": "markdown",
   "metadata": {},
   "source": [
    "# Python with MongoDB"
   ]
  },
  {
   "cell_type": "markdown",
   "metadata": {},
   "source": [
    "## Libraries and Settings"
   ]
  },
  {
   "cell_type": "code",
   "execution_count": null,
   "metadata": {},
   "outputs": [],
   "source": [
    "# Libraries\n",
    "import os\n",
    "import json\n",
    "import numpy as np\n",
    "import pandas as pd\n",
    "import matplotlib.pyplot as plt\n",
    "from pymongo import MongoClient\n",
    "\n",
    "# Settings\n",
    "import warnings\n",
    "warnings.filterwarnings(\"ignore\")\n",
    "\n",
    "# Current working directory\n",
    "print(os.getcwd())"
   ]
  },
  {
   "cell_type": "markdown",
   "metadata": {},
   "source": [
    "## Connect to the MongoDB"
   ]
  },
  {
   "cell_type": "code",
   "execution_count": null,
   "metadata": {},
   "outputs": [],
   "source": [
    "# Connect to the MongoDB service\n",
    "client = MongoClient(\"mongodb://localhost:27017/\")"
   ]
  },
  {
   "cell_type": "markdown",
   "metadata": {},
   "source": [
    "## Select or create database and collection"
   ]
  },
  {
   "cell_type": "code",
   "execution_count": null,
   "metadata": {},
   "outputs": [],
   "source": [
    "# Select or create a database\n",
    "db = client[\"car_database\"]\n",
    "\n",
    "# Select or create a collection (similar to a table in SQL)\n",
    "collection = db[\"car_collection\"]"
   ]
  },
  {
   "cell_type": "markdown",
   "metadata": {},
   "source": [
    "## Create .json file from .xlsx file with car data"
   ]
  },
  {
   "cell_type": "code",
   "execution_count": null,
   "metadata": {},
   "outputs": [],
   "source": [
    "# Read cara data from an Excel file into a DataFrame\n",
    "file_path = 'car_data.xlsx'\n",
    "df = pd.read_excel(file_path)\n",
    "\n",
    "# Convert the DataFrame to a JSON object\n",
    "data_json = df.to_json(orient='records', indent=4)\n",
    "\n",
    "# Store the JSON data in a file\n",
    "with open('car_data.json', 'w') as file:\n",
    "    file.write(data_json)\n",
    "\n",
    "print(\"Data has been read from the Excel file and stored in data.json\")"
   ]
  },
  {
   "cell_type": "markdown",
   "metadata": {},
   "source": [
    "## Read and insert data"
   ]
  },
  {
   "cell_type": "code",
   "execution_count": null,
   "metadata": {},
   "outputs": [],
   "source": [
    "# Read data\n",
    "with open('car_data.json', 'r') as file:\n",
    "    example_data = json.load(file)\n",
    "\n",
    "# Insert data into the collection\n",
    "try:\n",
    "    insert_result = collection.insert_many(example_data)\n",
    "    # print(f\"Inserted document IDs: {insert_result.inserted_ids}\")\n",
    "except Exception as e:\n",
    "    print(f\"Insert error: {e}\")"
   ]
  },
  {
   "cell_type": "markdown",
   "metadata": {},
   "source": [
    "## Query the collection"
   ]
  },
  {
   "cell_type": "code",
   "execution_count": null,
   "metadata": {},
   "outputs": [],
   "source": [
    "# Define a query with multiple conditions\n",
    "query = {\n",
    "    \"Price\": {\"$gt\": 10000, \"$lt\": 120000},\n",
    "    \"PS\": {\"$gt\": 125}\n",
    "}\n",
    "\n",
    "# Execute the query and fetch the results\n",
    "results = list(collection.find(query))\n",
    "\n",
    "# Convert the results into a Pandas DataFrame\n",
    "df = pd.DataFrame(results)\n",
    "\n",
    "df[['Offer_Id', 'Marke', 'Type', 'Fuel_Type', 'Price', 'PS']].head()"
   ]
  },
  {
   "cell_type": "markdown",
   "metadata": {},
   "source": [
    "## Create histogram of car prices"
   ]
  },
  {
   "cell_type": "code",
   "execution_count": null,
   "metadata": {},
   "outputs": [],
   "source": [
    "# Create a histogram of car prices\n",
    "plt.hist(df['Price'], bins=50, color='greenyellow')\n",
    "plt.title('Histogram of Car Prices')\n",
    "plt.xlabel('Car price (CHF)')\n",
    "plt.ylabel('Frequency')\n",
    "plt.grid()\n",
    "plt.show()"
   ]
  },
  {
   "cell_type": "markdown",
   "metadata": {},
   "source": [
    "### Jupyter notebook --footer info-- (please always provide this at the end of each notebook)"
   ]
  },
  {
   "cell_type": "code",
   "execution_count": null,
   "metadata": {},
   "outputs": [],
   "source": [
    "import os\n",
    "import platform\n",
    "import socket\n",
    "from platform import python_version\n",
    "from datetime import datetime\n",
    "\n",
    "print('-----------------------------------')\n",
    "print(os.name.upper())\n",
    "print(platform.system(), '|', platform.release())\n",
    "print('Datetime:', datetime.now().strftime(\"%Y-%m-%d %H:%M:%S\"))\n",
    "print('Python Version:', python_version())\n",
    "print('-----------------------------------')"
   ]
  }
 ],
 "metadata": {
  "kernelspec": {
   "display_name": "daengenv",
   "language": "python",
   "name": "python3"
  },
  "language_info": {
   "codemirror_mode": {
    "name": "ipython",
    "version": 3
   },
   "file_extension": ".py",
   "mimetype": "text/x-python",
   "name": "python",
   "nbconvert_exporter": "python",
   "pygments_lexer": "ipython3",
   "version": "3.11.9"
  }
 },
 "nbformat": 4,
 "nbformat_minor": 2
}
