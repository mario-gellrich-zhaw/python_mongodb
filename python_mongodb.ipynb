{
 "cells": [
  {
   "cell_type": "markdown",
   "metadata": {},
   "source": [
    "# Python with MongoDB"
   ]
  },
  {
   "cell_type": "markdown",
   "metadata": {},
   "source": [
    "## Libraries and Settings"
   ]
  },
  {
   "cell_type": "code",
   "execution_count": 1,
   "metadata": {},
   "outputs": [
    {
     "name": "stdout",
     "output_type": "stream",
     "text": [
      "u:\\Lektionen\\DS_HS2024\\python_mongodb\n"
     ]
    }
   ],
   "source": [
    "# Libraries\n",
    "import os\n",
    "import json\n",
    "import random\n",
    "import numpy as np\n",
    "import pandas as pd\n",
    "import matplotlib.pyplot as plt\n",
    "from pymongo import MongoClient\n",
    "\n",
    "# Settings\n",
    "import warnings\n",
    "warnings.filterwarnings(\"ignore\")\n",
    "\n",
    "# Current working directory\n",
    "print(os.getcwd())"
   ]
  },
  {
   "cell_type": "markdown",
   "metadata": {},
   "source": [
    "## Connect to the MongoDB"
   ]
  },
  {
   "cell_type": "code",
   "execution_count": 2,
   "metadata": {},
   "outputs": [],
   "source": [
    "# Connect to the MongoDB service\n",
    "client = MongoClient(\"mongodb://localhost:27017/\")"
   ]
  },
  {
   "cell_type": "markdown",
   "metadata": {},
   "source": [
    "## Select or create database and collection"
   ]
  },
  {
   "cell_type": "code",
   "execution_count": 27,
   "metadata": {},
   "outputs": [],
   "source": [
    "# Select or create a database\n",
    "db = client[\"car_database\"]\n",
    "\n",
    "# Select or create a collection (similar to a table in SQL)\n",
    "collection = db[\"car_collection\"]"
   ]
  },
  {
   "cell_type": "markdown",
   "metadata": {},
   "source": [
    "## Create .json file with car data"
   ]
  },
  {
   "cell_type": "code",
   "execution_count": 28,
   "metadata": {},
   "outputs": [
    {
     "name": "stdout",
     "output_type": "stream",
     "text": [
      "Data has been read from the Excel file and stored in data.json\n"
     ]
    }
   ],
   "source": [
    "# Read cara data from an Excel file into a DataFrame\n",
    "file_path = 'car_data.xlsx'\n",
    "df = pd.read_excel(file_path)\n",
    "\n",
    "# Convert the DataFrame to a JSON object\n",
    "data_json = df.to_json(orient='records', indent=4)\n",
    "\n",
    "# Store the JSON data in a file\n",
    "with open('car_data.json', 'w') as file:\n",
    "    file.write(data_json)\n",
    "\n",
    "print(\"Data has been read from the Excel file and stored in data.json\")"
   ]
  },
  {
   "cell_type": "markdown",
   "metadata": {},
   "source": [
    "## Read and insert data"
   ]
  },
  {
   "cell_type": "code",
   "execution_count": 24,
   "metadata": {},
   "outputs": [],
   "source": [
    "# Read data\n",
    "with open('car_data.json', 'r') as file:\n",
    "    example_data = json.load(file)\n",
    "\n",
    "# Insert data into the collection\n",
    "try:\n",
    "    insert_result = collection.insert_many(example_data)\n",
    "    # print(f\"Inserted document IDs: {insert_result.inserted_ids}\")\n",
    "except Exception as e:\n",
    "    print(f\"Insert error: {e}\")"
   ]
  },
  {
   "cell_type": "markdown",
   "metadata": {},
   "source": [
    "## Query the collection"
   ]
  },
  {
   "cell_type": "code",
   "execution_count": 41,
   "metadata": {},
   "outputs": [
    {
     "data": {
      "text/html": [
       "<div>\n",
       "<style scoped>\n",
       "    .dataframe tbody tr th:only-of-type {\n",
       "        vertical-align: middle;\n",
       "    }\n",
       "\n",
       "    .dataframe tbody tr th {\n",
       "        vertical-align: top;\n",
       "    }\n",
       "\n",
       "    .dataframe thead th {\n",
       "        text-align: right;\n",
       "    }\n",
       "</style>\n",
       "<table border=\"1\" class=\"dataframe\">\n",
       "  <thead>\n",
       "    <tr style=\"text-align: right;\">\n",
       "      <th></th>\n",
       "      <th>Offer_Id</th>\n",
       "      <th>Marke</th>\n",
       "      <th>Type</th>\n",
       "      <th>Fuel_Type</th>\n",
       "      <th>Price</th>\n",
       "      <th>PS</th>\n",
       "    </tr>\n",
       "  </thead>\n",
       "  <tbody>\n",
       "    <tr>\n",
       "      <th>0</th>\n",
       "      <td>7324420</td>\n",
       "      <td>AUDI</td>\n",
       "      <td>AUDI A5 Sportback 3.0 TDI quattro S-tronic (Li...</td>\n",
       "      <td>Diesel</td>\n",
       "      <td>22500</td>\n",
       "      <td>245</td>\n",
       "    </tr>\n",
       "    <tr>\n",
       "      <th>1</th>\n",
       "      <td>7512768</td>\n",
       "      <td>MERCEDES-BENZ</td>\n",
       "      <td>MERCEDES-BENZ SLK 200 7G-Tronic (Cabriolet)</td>\n",
       "      <td>Benzin</td>\n",
       "      <td>23749</td>\n",
       "      <td>184</td>\n",
       "    </tr>\n",
       "    <tr>\n",
       "      <th>2</th>\n",
       "      <td>7512034</td>\n",
       "      <td>MERCEDES-BENZ</td>\n",
       "      <td>MERCEDES-BENZ C 350 Avantgarde 4Matic 7G-Troni...</td>\n",
       "      <td>Benzin</td>\n",
       "      <td>18500</td>\n",
       "      <td>306</td>\n",
       "    </tr>\n",
       "    <tr>\n",
       "      <th>3</th>\n",
       "      <td>7512728</td>\n",
       "      <td>MERCEDES-BENZ</td>\n",
       "      <td>MERCEDES-BENZ A 45 AMG 4Matic Speedshift 7G-DC...</td>\n",
       "      <td>Benzin</td>\n",
       "      <td>36000</td>\n",
       "      <td>360</td>\n",
       "    </tr>\n",
       "    <tr>\n",
       "      <th>4</th>\n",
       "      <td>7490242</td>\n",
       "      <td>AUDI</td>\n",
       "      <td>AUDI A5 Sportback 2.0 TFSI Sport quattro S-tro...</td>\n",
       "      <td>Benzin</td>\n",
       "      <td>48500</td>\n",
       "      <td>252</td>\n",
       "    </tr>\n",
       "  </tbody>\n",
       "</table>\n",
       "</div>"
      ],
      "text/plain": [
       "   Offer_Id          Marke                                               Type  \\\n",
       "0   7324420           AUDI  AUDI A5 Sportback 3.0 TDI quattro S-tronic (Li...   \n",
       "1   7512768  MERCEDES-BENZ        MERCEDES-BENZ SLK 200 7G-Tronic (Cabriolet)   \n",
       "2   7512034  MERCEDES-BENZ  MERCEDES-BENZ C 350 Avantgarde 4Matic 7G-Troni...   \n",
       "3   7512728  MERCEDES-BENZ  MERCEDES-BENZ A 45 AMG 4Matic Speedshift 7G-DC...   \n",
       "4   7490242           AUDI  AUDI A5 Sportback 2.0 TFSI Sport quattro S-tro...   \n",
       "\n",
       "  Fuel_Type  Price   PS  \n",
       "0    Diesel  22500  245  \n",
       "1    Benzin  23749  184  \n",
       "2    Benzin  18500  306  \n",
       "3    Benzin  36000  360  \n",
       "4    Benzin  48500  252  "
      ]
     },
     "execution_count": 41,
     "metadata": {},
     "output_type": "execute_result"
    }
   ],
   "source": [
    "# Define a query with multiple conditions\n",
    "query = {\n",
    "    \"Price\": {\"$gt\": 10000, \"$lt\": 120000},\n",
    "    \"PS\": {\"$gt\": 125}\n",
    "}\n",
    "\n",
    "# Execute the query and fetch the results\n",
    "results = list(collection.find(query))\n",
    "\n",
    "# Convert the results into a Pandas DataFrame\n",
    "df = pd.DataFrame(results)\n",
    "\n",
    "df[['Offer_Id', 'Marke', 'Type', 'Fuel_Type', 'Price', 'PS']].head()"
   ]
  },
  {
   "cell_type": "markdown",
   "metadata": {},
   "source": [
    "## Create histogram of car prices"
   ]
  },
  {
   "cell_type": "code",
   "execution_count": 44,
   "metadata": {},
   "outputs": [
    {
     "data": {
      "image/png": "[encoded data removed]",
      "text/plain": [
       "<Figure size 640x480 with 1 Axes>"
      ]
     },
     "metadata": {},
     "output_type": "display_data"
    }
   ],
   "source": [
    "# Create a histogram of car prices\n",
    "plt.hist(df['Price'], bins=50, color='greenyellow')\n",
    "plt.title('Histogram of Car Prices')\n",
    "plt.xlabel('Car price (CHF)')\n",
    "plt.ylabel('Frequency')\n",
    "plt.grid()\n",
    "plt.show()"
   ]
  },
  {
   "cell_type": "markdown",
   "metadata": {},
   "source": [
    "### Jupyter notebook --footer info-- (please always provide this at the end of each notebook)"
   ]
  },
  {
   "cell_type": "code",
   "execution_count": null,
   "metadata": {},
   "outputs": [],
   "source": [
    "import os\n",
    "import platform\n",
    "import socket\n",
    "from platform import python_version\n",
    "from datetime import datetime\n",
    "\n",
    "print('-----------------------------------')\n",
    "print(os.name.upper())\n",
    "print(platform.system(), '|', platform.release())\n",
    "print('Datetime:', datetime.now().strftime(\"%Y-%m-%d %H:%M:%S\"))\n",
    "print('Python Version:', python_version())\n",
    "print('-----------------------------------')"
   ]
  }
 ],
 "metadata": {
  "kernelspec": {
   "display_name": "daengenv",
   "language": "python",
   "name": "python3"
  },
  "language_info": {
   "codemirror_mode": {
    "name": "ipython",
    "version": 3
   },
   "file_extension": ".py",
   "mimetype": "text/x-python",
   "name": "python",
   "nbconvert_exporter": "python",
   "pygments_lexer": "ipython3",
   "version": "3.11.9"
  }
 },
 "nbformat": 4,
 "nbformat_minor": 2
}
