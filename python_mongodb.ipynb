{
 "cells": [
  {
   "cell_type": "markdown",
   "metadata": {},
   "source": [
    "# Python with MongoDB"
   ]
  },
  {
   "cell_type": "markdown",
   "metadata": {},
   "source": [
    "## Libraries and Settings"
   ]
  },
  {
   "cell_type": "code",
   "execution_count": null,
   "metadata": {},
   "outputs": [],
   "source": [
    "# Libraries\n",
    "import os\n",
    "import json\n",
    "import numpy as np\n",
    "import pandas as pd\n",
    "import matplotlib.pyplot as plt\n",
    "\n",
    "from pymongo import MongoClient\n",
    "from pymongo.errors import ConnectionFailure\n",
    "\n",
    "# Settings\n",
    "import warnings\n",
    "warnings.filterwarnings(\"ignore\")\n",
    "\n",
    "# Current working directory\n",
    "print(os.getcwd())"
   ]
  },
  {
   "cell_type": "markdown",
   "metadata": {},
   "source": [
    "## Read and insert data"
   ]
  },
  {
   "cell_type": "code",
   "execution_count": null,
   "metadata": {},
   "outputs": [],
   "source": [
    "# Function to insert data\n",
    "def insert_data():\n",
    "    try:\n",
    "        # Connect to the MongoDB server\n",
    "        client = MongoClient(\"mongodb://mongo:27017/\")\n",
    "        \n",
    "        # List databases to check the connection\n",
    "        databases = client.list_database_names()\n",
    "        print(\"Connected to MongoDB. Databases:\", databases)\n",
    "        \n",
    "        # Access the specific database and collection\n",
    "        db = client['car_database']\n",
    "        collection = db['car_collection']\n",
    "        \n",
    "        # Read data from JSON file\n",
    "        with open('/workspace/car_data.json', 'r') as file:\n",
    "            example_data = json.load(file)\n",
    "        \n",
    "        # Insert data into the collection\n",
    "        try:\n",
    "            insert_result = collection.insert_many(example_data)\n",
    "            # print(f\"Inserted document IDs: {insert_result.inserted_ids}\")\n",
    "            print(f\"Inserted documents to mongo db\")\n",
    "        except Exception as e:\n",
    "            print(f\"Insert error: {e}\")\n",
    "        \n",
    "    except ConnectionFailure as e:\n",
    "        print(\"Failed to connect to MongoDB:\", e)\n",
    "\n",
    "# Function call\n",
    "insert_data()"
   ]
  },
  {
   "cell_type": "markdown",
   "metadata": {},
   "source": [
    "## Query the collection"
   ]
  },
  {
   "cell_type": "code",
   "execution_count": null,
   "metadata": {},
   "outputs": [],
   "source": [
    "# Function to create the connection\n",
    "def get_mongo_connection():\n",
    "    try:\n",
    "        # Connect to the MongoDB server\n",
    "        client = MongoClient(\"mongodb://mongo:27017/\")\n",
    "        print(\"Connected to MongoDB.\")\n",
    "        return client\n",
    "    except ConnectionFailure as e:\n",
    "        print(\"Failed to connect to MongoDB:\", e)\n",
    "        return None\n",
    "\n",
    "# Function to query the data\n",
    "def query_collection(db_name, collection_name, query):\n",
    "    client = get_mongo_connection()\n",
    "    if client:\n",
    "        db = client[db_name]\n",
    "        collection = db[collection_name]\n",
    "        results = list(collection.find(query))\n",
    "        return results\n",
    "    return []\n",
    "\n",
    "# Define the database and collection names\n",
    "db_name = 'car_database'\n",
    "collection_name = 'car_collection'\n",
    "    \n",
    "# Define a query with multiple conditions\n",
    "query = {\n",
    "    \"Price\": {\"$gt\": 10000, \"$lt\": 120000},\n",
    "    \"PS\": {\"$gt\": 125}\n",
    "}\n",
    "\n",
    "# Execute the query and fetch the results\n",
    "results = query_collection(db_name, collection_name, query)\n",
    "\n",
    "# Convert the results into a Pandas DataFrame\n",
    "df = pd.DataFrame(results)\n",
    "\n",
    "# Display selected columns\n",
    "df[['Offer_Id', 'Marke', 'Type', 'Fuel_Type', 'Price', 'PS']].head()"
   ]
  },
  {
   "cell_type": "markdown",
   "metadata": {},
   "source": [
    "## Create histogram of car prices"
   ]
  },
  {
   "cell_type": "code",
   "execution_count": null,
   "metadata": {},
   "outputs": [],
   "source": [
    "# Create a histogram of car prices\n",
    "plt.hist(df['Price'], bins=50, color='greenyellow')\n",
    "plt.title('Histogram of Car Prices')\n",
    "plt.xlabel('Car price (CHF)')\n",
    "plt.ylabel('Frequency')\n",
    "plt.grid()\n",
    "plt.show()"
   ]
  },
  {
   "cell_type": "markdown",
   "metadata": {},
   "source": [
    "## Remove existing DBs and Connections"
   ]
  },
  {
   "cell_type": "code",
   "execution_count": null,
   "metadata": {},
   "outputs": [],
   "source": [
    "# Function to remove existing DBs and Connections\n",
    "def remove_db_and_collection(db_name, collection_name):\n",
    "    try:\n",
    "        # Connect to the MongoDB server\n",
    "        client = MongoClient(\"mongodb://mongo:27017/\")\n",
    "        \n",
    "        # List databases to check the connection\n",
    "        databases = client.list_database_names()\n",
    "        print(\"Connected to MongoDB. Databases:\", databases)\n",
    "        \n",
    "        # Access the specific database and collection\n",
    "        db_name = db_name\n",
    "        collection_name = collection_name\n",
    "        \n",
    "        # Drop the collection\n",
    "        db = client[db_name]\n",
    "        if collection_name in db.list_collection_names():\n",
    "            db.drop_collection(collection_name)\n",
    "            print(f\"Collection '{collection_name}' dropped from database '{db_name}'.\")\n",
    "        else:\n",
    "            print(f\"Collection '{collection_name}' does not exist in database '{db_name}'.\")\n",
    "        \n",
    "        # Drop the database\n",
    "        if db_name in databases:\n",
    "            client.drop_database(db_name)\n",
    "            print(f\"Database '{db_name}' dropped.\")\n",
    "        else:\n",
    "            print(f\"Database '{db_name}' does not exist.\")\n",
    "        \n",
    "    except ConnectionFailure as e:\n",
    "        print(\"Failed to connect to MongoDB:\", e)\n",
    "\n",
    "# Remove existing DBs and Connections\n",
    "remove_db_and_collection('car_database', 'car_collection')"
   ]
  },
  {
   "cell_type": "markdown",
   "metadata": {},
   "source": [
    "### Jupyter notebook --footer info-- (please always provide this at the end of each notebook)"
   ]
  },
  {
   "cell_type": "code",
   "execution_count": null,
   "metadata": {},
   "outputs": [],
   "source": [
    "import os\n",
    "import platform\n",
    "import socket\n",
    "from platform import python_version\n",
    "from datetime import datetime\n",
    "\n",
    "print('-----------------------------------')\n",
    "print(os.name.upper())\n",
    "print(platform.system(), '|', platform.release())\n",
    "print('Datetime:', datetime.now().strftime(\"%Y-%m-%d %H:%M:%S\"))\n",
    "print('Python Version:', python_version())\n",
    "print('-----------------------------------')"
   ]
  }
 ],
 "metadata": {
  "kernelspec": {
   "display_name": "daengenv",
   "language": "python",
   "name": "python3"
  },
  "language_info": {
   "codemirror_mode": {
    "name": "ipython",
    "version": 3
   },
   "file_extension": ".py",
   "mimetype": "text/x-python",
   "name": "python",
   "nbconvert_exporter": "python",
   "pygments_lexer": "ipython3",
   "version": "3.11.9"
  }
 },
 "nbformat": 4,
 "nbformat_minor": 2
}
