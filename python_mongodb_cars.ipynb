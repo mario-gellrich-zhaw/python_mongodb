{
 "cells": [
  {
   "cell_type": "markdown",
   "metadata": {},
   "source": [
    "# Python with MongoDB\n",
    "\n",
    "Helpful learning resources: https://www.tutorialspoint.com/mongodb/index.htm"
   ]
  },
  {
   "cell_type": "markdown",
   "metadata": {},
   "source": [
    "## Libraries and Settings"
   ]
  },
  {
   "cell_type": "code",
   "execution_count": null,
   "metadata": {},
   "outputs": [
    {
     "name": "stdout",
     "output_type": "stream",
     "text": [
      "/workspace\n"
     ]
    }
   ],
   "source": [
    "# Libraries\n",
    "import os\n",
    "import json\n",
    "import pandas as pd\n",
    "import matplotlib.pyplot as plt\n",
    "\n",
    "from pymongo import MongoClient\n",
    "\n",
    "# Settings\n",
    "import warnings\n",
    "warnings.filterwarnings(\"ignore\")\n",
    "\n",
    "# Use dark background for plots\n",
    "plt.style.use('dark_background')\n",
    "\n",
    "# Current working directory\n",
    "print(os.getcwd())"
   ]
  },
  {
   "cell_type": "markdown",
   "metadata": {},
   "source": [
    "## Connect to the MongoDB server and list databases"
   ]
  },
  {
   "cell_type": "code",
   "execution_count": 2,
   "metadata": {},
   "outputs": [
    {
     "name": "stdout",
     "output_type": "stream",
     "text": [
      "Connected to MongoDB. Databases: ['admin', 'config', 'local']\n"
     ]
    }
   ],
   "source": [
    "# Connect to the MongoDB server\n",
    "client = MongoClient(\"mongodb://mongo:27017/\")\n",
    "\n",
    "# List databases\n",
    "databases = client.list_database_names()\n",
    "print(\"Connected to MongoDB. Databases:\", databases)"
   ]
  },
  {
   "cell_type": "markdown",
   "metadata": {},
   "source": [
    "## Read and insert data"
   ]
  },
  {
   "cell_type": "code",
   "execution_count": 3,
   "metadata": {},
   "outputs": [
    {
     "name": "stdout",
     "output_type": "stream",
     "text": [
      "Inserted documents to mongo db\n"
     ]
    }
   ],
   "source": [
    "# Create / Access the specific database and collection\n",
    "db = client['car_database']\n",
    "collection = db['car_collection']\n",
    "\n",
    "# Read data from JSON file\n",
    "with open('/workspace/car_data.json', 'r') as file:\n",
    "    example_data = json.load(file)\n",
    "\n",
    "# Insert data into the collection (similar to tables in an SQL database)\n",
    "try:\n",
    "    insert_result = collection.insert_many(example_data)\n",
    "    print(f\"Inserted documents to mongo db\")\n",
    "except Exception as e:\n",
    "    print(f\"Insert error: {e}\")\n"
   ]
  },
  {
   "cell_type": "markdown",
   "metadata": {},
   "source": [
    "## Define a query with multiple conditions"
   ]
  },
  {
   "cell_type": "code",
   "execution_count": 4,
   "metadata": {},
   "outputs": [
    {
     "data": {
      "text/html": [
       "<div>\n",
       "<style scoped>\n",
       "    .dataframe tbody tr th:only-of-type {\n",
       "        vertical-align: middle;\n",
       "    }\n",
       "\n",
       "    .dataframe tbody tr th {\n",
       "        vertical-align: top;\n",
       "    }\n",
       "\n",
       "    .dataframe thead th {\n",
       "        text-align: right;\n",
       "    }\n",
       "</style>\n",
       "<table border=\"1\" class=\"dataframe\">\n",
       "  <thead>\n",
       "    <tr style=\"text-align: right;\">\n",
       "      <th></th>\n",
       "      <th>Offer_Id</th>\n",
       "      <th>Marke</th>\n",
       "      <th>Type</th>\n",
       "      <th>Fuel_Type</th>\n",
       "      <th>Price</th>\n",
       "      <th>PS</th>\n",
       "    </tr>\n",
       "  </thead>\n",
       "  <tbody>\n",
       "    <tr>\n",
       "      <th>0</th>\n",
       "      <td>7512768</td>\n",
       "      <td>MERCEDES-BENZ</td>\n",
       "      <td>MERCEDES-BENZ SLK 200 7G-Tronic (Cabriolet)</td>\n",
       "      <td>Benzin</td>\n",
       "      <td>23749</td>\n",
       "      <td>184</td>\n",
       "    </tr>\n",
       "    <tr>\n",
       "      <th>1</th>\n",
       "      <td>7512034</td>\n",
       "      <td>MERCEDES-BENZ</td>\n",
       "      <td>MERCEDES-BENZ C 350 Avantgarde 4Matic 7G-Troni...</td>\n",
       "      <td>Benzin</td>\n",
       "      <td>18500</td>\n",
       "      <td>306</td>\n",
       "    </tr>\n",
       "    <tr>\n",
       "      <th>2</th>\n",
       "      <td>7512728</td>\n",
       "      <td>MERCEDES-BENZ</td>\n",
       "      <td>MERCEDES-BENZ A 45 AMG 4Matic Speedshift 7G-DC...</td>\n",
       "      <td>Benzin</td>\n",
       "      <td>36000</td>\n",
       "      <td>360</td>\n",
       "    </tr>\n",
       "    <tr>\n",
       "      <th>3</th>\n",
       "      <td>7490242</td>\n",
       "      <td>AUDI</td>\n",
       "      <td>AUDI A5 Sportback 2.0 TFSI Sport quattro S-tro...</td>\n",
       "      <td>Benzin</td>\n",
       "      <td>48500</td>\n",
       "      <td>252</td>\n",
       "    </tr>\n",
       "    <tr>\n",
       "      <th>4</th>\n",
       "      <td>7512188</td>\n",
       "      <td>MERCEDES-BENZ</td>\n",
       "      <td>MERCEDES-BENZ SLK 200 Kompressor (Cabriolet)</td>\n",
       "      <td>Benzin</td>\n",
       "      <td>12000</td>\n",
       "      <td>163</td>\n",
       "    </tr>\n",
       "  </tbody>\n",
       "</table>\n",
       "</div>"
      ],
      "text/plain": [
       "   Offer_Id          Marke                                               Type  \\\n",
       "0   7512768  MERCEDES-BENZ        MERCEDES-BENZ SLK 200 7G-Tronic (Cabriolet)   \n",
       "1   7512034  MERCEDES-BENZ  MERCEDES-BENZ C 350 Avantgarde 4Matic 7G-Troni...   \n",
       "2   7512728  MERCEDES-BENZ  MERCEDES-BENZ A 45 AMG 4Matic Speedshift 7G-DC...   \n",
       "3   7490242           AUDI  AUDI A5 Sportback 2.0 TFSI Sport quattro S-tro...   \n",
       "4   7512188  MERCEDES-BENZ       MERCEDES-BENZ SLK 200 Kompressor (Cabriolet)   \n",
       "\n",
       "  Fuel_Type  Price   PS  \n",
       "0    Benzin  23749  184  \n",
       "1    Benzin  18500  306  \n",
       "2    Benzin  36000  360  \n",
       "3    Benzin  48500  252  \n",
       "4    Benzin  12000  163  "
      ]
     },
     "execution_count": 4,
     "metadata": {},
     "output_type": "execute_result"
    }
   ],
   "source": [
    "# Function to query the data\n",
    "def query_collection(db_name, collection_name, query, client=client):\n",
    "    if client:\n",
    "        db = client[db_name]\n",
    "        collection = db[collection_name]\n",
    "        results = list(collection.find(query))\n",
    "        return results\n",
    "    return []\n",
    "\n",
    "# Define a query with multiple conditions\n",
    "query = {\n",
    "    \"Price\": {\"$gt\": 10000, \"$lt\": 120000},\n",
    "    \"PS\": {\"$gt\": 125},\n",
    "    \"Fuel_Type\": {\"$eq\": 'Benzin'}\n",
    "}\n",
    "\n",
    "# Execute the query and fetch the results\n",
    "results = query_collection('car_database', 'car_collection', query)\n",
    "\n",
    "# Convert the results into a Pandas DataFrame\n",
    "df = pd.DataFrame(results)\n",
    "\n",
    "# Display selected columns\n",
    "df[['Offer_Id', 'Marke', 'Type', 'Fuel_Type', 'Price', 'PS']].head()"
   ]
  },
  {
   "cell_type": "markdown",
   "metadata": {},
   "source": [
    "## Create histogram of car prices"
   ]
  },
  {
   "cell_type": "code",
   "execution_count": 5,
   "metadata": {},
   "outputs": [
    {
     "data": {
      "image/png": "[encoded data removed]",
      "text/plain": [
       "<Figure size 640x480 with 1 Axes>"
      ]
     },
     "metadata": {},
     "output_type": "display_data"
    }
   ],
   "source": [
    "# Create a histogram of car prices\n",
    "plt.hist(df['Price'], bins=50, color='greenyellow')\n",
    "plt.title('Histogram of Car Prices')\n",
    "plt.xlabel('Car price (CHF)')\n",
    "plt.ylabel('Frequency')\n",
    "plt.grid()\n",
    "plt.show()"
   ]
  },
  {
   "cell_type": "markdown",
   "metadata": {},
   "source": [
    "## Define a query to aggregate the data"
   ]
  },
  {
   "cell_type": "code",
   "execution_count": 6,
   "metadata": {},
   "outputs": [
    {
     "data": {
      "text/html": [
       "<div>\n",
       "<style scoped>\n",
       "    .dataframe tbody tr th:only-of-type {\n",
       "        vertical-align: middle;\n",
       "    }\n",
       "\n",
       "    .dataframe tbody tr th {\n",
       "        vertical-align: top;\n",
       "    }\n",
       "\n",
       "    .dataframe thead th {\n",
       "        text-align: right;\n",
       "    }\n",
       "</style>\n",
       "<table border=\"1\" class=\"dataframe\">\n",
       "  <thead>\n",
       "    <tr style=\"text-align: right;\">\n",
       "      <th></th>\n",
       "      <th>Marke</th>\n",
       "      <th>totalPrice</th>\n",
       "      <th>averagePrice</th>\n",
       "      <th>count</th>\n",
       "    </tr>\n",
       "  </thead>\n",
       "  <tbody>\n",
       "    <tr>\n",
       "      <th>0</th>\n",
       "      <td>MERCEDES-BENZ</td>\n",
       "      <td>16532886</td>\n",
       "      <td>33671.865580</td>\n",
       "      <td>491</td>\n",
       "    </tr>\n",
       "    <tr>\n",
       "      <th>1</th>\n",
       "      <td>BMW</td>\n",
       "      <td>15535552</td>\n",
       "      <td>28401.374771</td>\n",
       "      <td>547</td>\n",
       "    </tr>\n",
       "    <tr>\n",
       "      <th>2</th>\n",
       "      <td>AUDI</td>\n",
       "      <td>14362528</td>\n",
       "      <td>28384.442688</td>\n",
       "      <td>506</td>\n",
       "    </tr>\n",
       "    <tr>\n",
       "      <th>3</th>\n",
       "      <td>PORSCHE</td>\n",
       "      <td>13321621</td>\n",
       "      <td>61961.027907</td>\n",
       "      <td>215</td>\n",
       "    </tr>\n",
       "    <tr>\n",
       "      <th>4</th>\n",
       "      <td>VW</td>\n",
       "      <td>7145938</td>\n",
       "      <td>18512.792746</td>\n",
       "      <td>386</td>\n",
       "    </tr>\n",
       "  </tbody>\n",
       "</table>\n",
       "</div>"
      ],
      "text/plain": [
       "           Marke  totalPrice  averagePrice  count\n",
       "0  MERCEDES-BENZ    16532886  33671.865580    491\n",
       "1            BMW    15535552  28401.374771    547\n",
       "2           AUDI    14362528  28384.442688    506\n",
       "3        PORSCHE    13321621  61961.027907    215\n",
       "4             VW     7145938  18512.792746    386"
      ]
     },
     "execution_count": 6,
     "metadata": {},
     "output_type": "execute_result"
    }
   ],
   "source": [
    "# Funktion to aggregate data\n",
    "def aggregate_prices_by_brand(db_name, collection_name, client=client):\n",
    "    db = client[db_name]\n",
    "    collection = db[collection_name]\n",
    "    \n",
    "    pipeline = [\n",
    "        {\n",
    "            \"$group\": {\n",
    "                \"_id\": \"$Marke\",\n",
    "                \"totalPrice\": { \"$sum\": \"$Price\" },\n",
    "                \"averagePrice\": { \"$avg\": \"$Price\" },\n",
    "                \"count\": { \"$sum\": 1 }\n",
    "            }\n",
    "        },\n",
    "        {\n",
    "            \"$sort\": { \"totalPrice\": -1 }\n",
    "        }\n",
    "    ]\n",
    "    \n",
    "    results = list(collection.aggregate(pipeline))\n",
    "    return results\n",
    "\n",
    "# Execute the aggregation query\n",
    "results = aggregate_prices_by_brand('car_database', 'car_collection')\n",
    "\n",
    "# Convert the results into a Pandas DataFrame\n",
    "df = pd.DataFrame(results)\n",
    "\n",
    "# Rename the '_id' column to 'Marke' for better readability\n",
    "df.rename(columns={'_id': 'Marke'}, inplace=True)\n",
    "\n",
    "# Display the DataFrame\n",
    "df.head()"
   ]
  },
  {
   "cell_type": "markdown",
   "metadata": {},
   "source": [
    "## Create bar chart of average car prices"
   ]
  },
  {
   "cell_type": "code",
   "execution_count": 7,
   "metadata": {},
   "outputs": [
    {
     "data": {
      "image/png": "[encoded data removed]",
      "text/plain": [
       "<Figure size 600x500 with 1 Axes>"
      ]
     },
     "metadata": {},
     "output_type": "display_data"
    }
   ],
   "source": [
    "#  Subset with the 20 most important brands in terms of the occurrence of vehicles\n",
    "df_sub = df.head(20).sort_values(by='averagePrice')\n",
    "\n",
    "# Create a bar chart\n",
    "plt.figure(figsize=(6, 5))\n",
    "plt.barh(df_sub[\"Marke\"], df_sub[\"averagePrice\"], color='greenyellow')\n",
    "plt.title('Average Prices by Marke')\n",
    "plt.xlabel('Average Price')\n",
    "plt.ylabel('Marke')\n",
    "plt.grid(axis='x')\n",
    "plt.xticks(rotation=45, ha='right')\n",
    "plt.tight_layout()\n",
    "\n",
    "# Display the plot\n",
    "plt.show()"
   ]
  },
  {
   "cell_type": "markdown",
   "metadata": {},
   "source": [
    "## Drop defined collections and databases"
   ]
  },
  {
   "cell_type": "code",
   "execution_count": 8,
   "metadata": {},
   "outputs": [
    {
     "name": "stdout",
     "output_type": "stream",
     "text": [
      "Connected to MongoDB. Databases: ['admin', 'car_database', 'config', 'local']\n",
      "Collection 'car_collection' dropped from database 'car_database'.\n",
      "Database 'car_database' dropped.\n"
     ]
    }
   ],
   "source": [
    "# List databases\n",
    "databases = client.list_database_names()\n",
    "print(\"Connected to MongoDB. Databases:\", databases)\n",
    "\n",
    "# Drop defined collections and database if exists\n",
    "db_name = 'car_database'\n",
    "collection_name = 'car_collection'\n",
    "db = client[db_name]\n",
    "if collection_name in db.list_collection_names():\n",
    "    db.drop_collection(collection_name)\n",
    "    print(f\"Collection '{collection_name}' dropped from database '{db_name}'.\")\n",
    "else:\n",
    "    print(f\"Collection '{collection_name}' does not exist in database '{db_name}'.\")\n",
    "\n",
    "# Drop the database\n",
    "if db_name in databases:\n",
    "    client.drop_database(db_name)\n",
    "    print(f\"Database '{db_name}' dropped.\")\n",
    "else:\n",
    "    print(f\"Database '{db_name}' does not exist.\")\n"
   ]
  },
  {
   "cell_type": "markdown",
   "metadata": {},
   "source": [
    "### Jupyter notebook --footer info-- (please always provide this at the end of each notebook)"
   ]
  },
  {
   "cell_type": "code",
   "execution_count": 9,
   "metadata": {},
   "outputs": [
    {
     "name": "stdout",
     "output_type": "stream",
     "text": [
      "-----------------------------------\n",
      "POSIX\n",
      "Linux | 6.8.0-1030-azure\n",
      "Datetime: 2025-08-26 07:03:42\n",
      "Python Version: 3.11.13\n",
      "-----------------------------------\n"
     ]
    }
   ],
   "source": [
    "import os\n",
    "import platform\n",
    "import socket\n",
    "from platform import python_version\n",
    "from datetime import datetime\n",
    "\n",
    "print('-----------------------------------')\n",
    "print(os.name.upper())\n",
    "print(platform.system(), '|', platform.release())\n",
    "print('Datetime:', datetime.now().strftime(\"%Y-%m-%d %H:%M:%S\"))\n",
    "print('Python Version:', python_version())\n",
    "print('-----------------------------------')"
   ]
  }
 ],
 "metadata": {
  "kernelspec": {
   "display_name": "Python 3",
   "language": "python",
   "name": "python3"
  },
  "language_info": {
   "codemirror_mode": {
    "name": "ipython",
    "version": 3
   },
   "file_extension": ".py",
   "mimetype": "text/x-python",
   "name": "python",
   "nbconvert_exporter": "python",
   "pygments_lexer": "ipython3",
   "version": "3.11.13"
  }
 },
 "nbformat": 4,
 "nbformat_minor": 2
}
